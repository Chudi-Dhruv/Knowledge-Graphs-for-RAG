{
  "nbformat": 4,
  "nbformat_minor": 0,
  "metadata": {
    "colab": {
      "provenance": []
    },
    "kernelspec": {
      "name": "python3",
      "display_name": "Python 3"
    },
    "language_info": {
      "name": "python"
    }
  },
  "cells": [
    {
      "cell_type": "code",
      "source": [
        "!pip install python-dotenv"
      ],
      "metadata": {
        "id": "kDNSJKrejnLw"
      },
      "execution_count": null,
      "outputs": []
    },
    {
      "cell_type": "code",
      "source": [
        "!pip install langchain_community"
      ],
      "metadata": {
        "collapsed": true,
        "id": "wk1_IkoSj4py"
      },
      "execution_count": null,
      "outputs": []
    },
    {
      "cell_type": "code",
      "execution_count": 7,
      "metadata": {
        "id": "jLqFmiy9jWpM"
      },
      "outputs": [],
      "source": [
        "from dotenv import load_dotenv\n",
        "import os\n",
        "from langchain_community.graphs import Neo4jGraph\n"
      ]
    },
    {
      "cell_type": "code",
      "source": [
        "load_dotenv('/content/.env.studiomac', override = True)"
      ],
      "metadata": {
        "colab": {
          "base_uri": "https://localhost:8080/"
        },
        "id": "l1k3fNa-0eFF",
        "outputId": "8294c04f-6cb2-4621-dec9-a13bf9507a66"
      },
      "execution_count": 28,
      "outputs": [
        {
          "output_type": "execute_result",
          "data": {
            "text/plain": [
              "True"
            ]
          },
          "metadata": {},
          "execution_count": 28
        }
      ]
    },
    {
      "cell_type": "code",
      "source": [
        "NEO4J_URI = os.getenv('NEO4J_URI')\n",
        "NEO4J_USERNAME = os.getenv('NEO4J_USERNAME')\n",
        "NEO4J_PASSWORD = os.getenv('NEO4J_PASSWORD')\n",
        "NEO4J_DATABASE = os.getenv('NEO4J_DATABASE')"
      ],
      "metadata": {
        "id": "FAaNK6zujh45"
      },
      "execution_count": 29,
      "outputs": []
    },
    {
      "cell_type": "code",
      "source": [
        "!pip install neo4j"
      ],
      "metadata": {
        "id": "5jqF3dMN09PZ"
      },
      "execution_count": null,
      "outputs": []
    },
    {
      "cell_type": "code",
      "source": [
        "kg = Neo4jGraph(\n",
        "    url=NEO4J_URI, username=NEO4J_USERNAME, password=NEO4J_PASSWORD, database=NEO4J_DATABASE\n",
        ")"
      ],
      "metadata": {
        "id": "kRcMZFKGkq7e"
      },
      "execution_count": 30,
      "outputs": []
    },
    {
      "cell_type": "code",
      "source": [
        "cypher1 = \"\"\"\n",
        "  MATCH (n)\n",
        "  RETURN count(n)\n",
        "  \"\"\""
      ],
      "metadata": {
        "id": "ca3bLv3x07X_"
      },
      "execution_count": 42,
      "outputs": []
    },
    {
      "cell_type": "code",
      "source": [
        "result1 = kg.query(cypher1)"
      ],
      "metadata": {
        "id": "9llwV4Qf4VmE"
      },
      "execution_count": 48,
      "outputs": []
    },
    {
      "cell_type": "code",
      "source": [
        "result1"
      ],
      "metadata": {
        "colab": {
          "base_uri": "https://localhost:8080/"
        },
        "id": "DntrMBzf4YdA",
        "outputId": "a9626aee-353a-47af-b4a9-d4071505fc86"
      },
      "execution_count": 49,
      "outputs": [
        {
          "output_type": "execute_result",
          "data": {
            "text/plain": [
              "[{'count(n)': 171}]"
            ]
          },
          "metadata": {},
          "execution_count": 49
        }
      ]
    },
    {
      "cell_type": "code",
      "source": [
        "print(f\"There are {result1[0]['count(n)']} total nodes in the database namely neo4j\")"
      ],
      "metadata": {
        "colab": {
          "base_uri": "https://localhost:8080/"
        },
        "id": "1E3JmOwq5sKI",
        "outputId": "205f2a4b-2c32-49ec-ba01-a5cd068f7640"
      },
      "execution_count": 50,
      "outputs": [
        {
          "output_type": "stream",
          "name": "stdout",
          "text": [
            "There are 171 total nodes in the database namely neo4j\n"
          ]
        }
      ]
    },
    {
      "cell_type": "code",
      "source": [
        "cypher2 = \"\"\"\n",
        "MATCH (n:Movie)\n",
        "RETURN count(n) AS no_of_movies\n",
        "\"\"\""
      ],
      "metadata": {
        "id": "tGEmVcMb4Y33"
      },
      "execution_count": 51,
      "outputs": []
    },
    {
      "cell_type": "code",
      "source": [
        "result2 = kg.query(cypher2)"
      ],
      "metadata": {
        "id": "fyBL7GG-5L_E"
      },
      "execution_count": 52,
      "outputs": []
    },
    {
      "cell_type": "code",
      "source": [
        "result2\n"
      ],
      "metadata": {
        "colab": {
          "base_uri": "https://localhost:8080/"
        },
        "id": "hxChNwmV5PcK",
        "outputId": "02ef080e-cc2b-4c56-eb0e-989f40d1c9b8"
      },
      "execution_count": 53,
      "outputs": [
        {
          "output_type": "execute_result",
          "data": {
            "text/plain": [
              "[{'no_of_movies': 38}]"
            ]
          },
          "metadata": {},
          "execution_count": 53
        }
      ]
    },
    {
      "cell_type": "code",
      "source": [
        "print(f\"There are {result2[0]['no_of_movies']} movies in the database namely neo4j\")"
      ],
      "metadata": {
        "colab": {
          "base_uri": "https://localhost:8080/"
        },
        "id": "sVdBkFwG5QfJ",
        "outputId": "fbb72125-05dd-4061-eb63-d7137ee32d04"
      },
      "execution_count": 54,
      "outputs": [
        {
          "output_type": "stream",
          "name": "stdout",
          "text": [
            "There are 38 movies in the database namely neo4j\n"
          ]
        }
      ]
    },
    {
      "cell_type": "code",
      "source": [],
      "metadata": {
        "id": "EZd_B8_K5jy7"
      },
      "execution_count": null,
      "outputs": []
    },
    {
      "cell_type": "code",
      "source": [
        "cypher3 = \"\"\"\n",
        "MATCH (n:Person)\n",
        "RETURN count(n) AS no_of_people\n",
        "\"\"\""
      ],
      "metadata": {
        "id": "YZ1bGohG6E-i"
      },
      "execution_count": 55,
      "outputs": []
    },
    {
      "cell_type": "code",
      "source": [
        "result3 = kg.query(cypher3)"
      ],
      "metadata": {
        "id": "S0FKQTYB6E-i"
      },
      "execution_count": 56,
      "outputs": []
    },
    {
      "cell_type": "code",
      "source": [
        "result3\n"
      ],
      "metadata": {
        "colab": {
          "base_uri": "https://localhost:8080/"
        },
        "outputId": "270fa626-6c5b-4cb6-e19b-9f74098a7c17",
        "id": "ixrciwiU6E-i"
      },
      "execution_count": 57,
      "outputs": [
        {
          "output_type": "execute_result",
          "data": {
            "text/plain": [
              "[{'no_of_people': 133}]"
            ]
          },
          "metadata": {},
          "execution_count": 57
        }
      ]
    },
    {
      "cell_type": "code",
      "source": [
        "print(f\"There are {result3[0]['no_of_people']} people in the database namely neo4j\")"
      ],
      "metadata": {
        "colab": {
          "base_uri": "https://localhost:8080/"
        },
        "outputId": "f1b15a2b-e4fc-4b08-e821-ec5d9dfc0aeb",
        "id": "6vtMxjkC6E-j"
      },
      "execution_count": 58,
      "outputs": [
        {
          "output_type": "stream",
          "name": "stdout",
          "text": [
            "There are 133 people in the database namely neo4j\n"
          ]
        }
      ]
    },
    {
      "cell_type": "code",
      "source": [
        "cypher4 = \"\"\"\n",
        "MATCH (tom:Person {name:'Tom Hanks'})\n",
        "RETURN tom\n",
        "\"\"\"\n",
        "\n",
        "kg.query(cypher4)"
      ],
      "metadata": {
        "colab": {
          "base_uri": "https://localhost:8080/"
        },
        "id": "eZi1tZvw6TuE",
        "outputId": "152fbf80-1422-4808-95f2-51577f7d1c1a"
      },
      "execution_count": 59,
      "outputs": [
        {
          "output_type": "execute_result",
          "data": {
            "text/plain": [
              "[{'tom': {'born': 1956, 'name': 'Tom Hanks'}}]"
            ]
          },
          "metadata": {},
          "execution_count": 59
        }
      ]
    },
    {
      "cell_type": "code",
      "source": [
        "cypher5 = \"\"\"\n",
        "MATCH (cloudAtlas:Movie {title:'Cloud Atlas'})\n",
        "RETURN cloudAtlas\n",
        "\"\"\"\n",
        "\n",
        "kg.query(cypher5)"
      ],
      "metadata": {
        "colab": {
          "base_uri": "https://localhost:8080/"
        },
        "id": "3sfxVyyM7Ss0",
        "outputId": "52eacff3-70d4-462a-8468-5912c6e17b95"
      },
      "execution_count": 63,
      "outputs": [
        {
          "output_type": "execute_result",
          "data": {
            "text/plain": [
              "[{'cloudAtlas': {'tagline': 'Everything is connected',\n",
              "   'title': 'Cloud Atlas',\n",
              "   'released': 2012}}]"
            ]
          },
          "metadata": {},
          "execution_count": 63
        }
      ]
    },
    {
      "cell_type": "code",
      "source": [
        "cypher6 = \"\"\"\n",
        "MATCH (cloudAtlas:Movie {title: 'Cloud Atlas'})\n",
        "RETURN cloudAtlas.released\n",
        "\"\"\"\n",
        "\n",
        "kg.query(cypher6)"
      ],
      "metadata": {
        "colab": {
          "base_uri": "https://localhost:8080/"
        },
        "id": "CuJqLwS67ewd",
        "outputId": "61079543-49bd-44de-c5b2-5e53fe27799a"
      },
      "execution_count": 64,
      "outputs": [
        {
          "output_type": "execute_result",
          "data": {
            "text/plain": [
              "[{'cloudAtlas.released': 2012}]"
            ]
          },
          "metadata": {},
          "execution_count": 64
        }
      ]
    },
    {
      "cell_type": "code",
      "source": [
        "cypher7 = \"\"\"\n",
        "MATCH (cloudAtlas:Movie {title: 'Cloud Atlas'})\n",
        "RETURN cloudAtlas.released, cloudAtlas.tagline\n",
        "\n",
        "\"\"\"\n",
        "\n",
        "kg.query(cypher7)"
      ],
      "metadata": {
        "colab": {
          "base_uri": "https://localhost:8080/"
        },
        "id": "N_ruLiO4750G",
        "outputId": "f8adecd6-086f-44c1-d1ae-7e1f228dc360"
      },
      "execution_count": 65,
      "outputs": [
        {
          "output_type": "execute_result",
          "data": {
            "text/plain": [
              "[{'cloudAtlas.released': 2012,\n",
              "  'cloudAtlas.tagline': 'Everything is connected'}]"
            ]
          },
          "metadata": {},
          "execution_count": 65
        }
      ]
    },
    {
      "cell_type": "markdown",
      "source": [
        "Till now only the exact pattern mathcing is done\n"
      ],
      "metadata": {
        "id": "e2_zgn1V8Mid"
      }
    },
    {
      "cell_type": "markdown",
      "source": [
        "#**One can also do the range type queries**"
      ],
      "metadata": {
        "id": "ecwVeMpx9GQy"
      }
    },
    {
      "cell_type": "code",
      "source": [
        "cypher8 = \"\"\"\n",
        "Match (genz_movies:Movie)\n",
        "WHERE genz_movies.released >= 2004\n",
        "  AND genz_movies.released < 2010\n",
        "RETURN genz_movies.title\n",
        "\n",
        "\"\"\"\n",
        "\n",
        "# AND genz_movies.released < 2001\n",
        "kg.query(cypher8)"
      ],
      "metadata": {
        "colab": {
          "base_uri": "https://localhost:8080/"
        },
        "id": "FWgU4POJ8FBz",
        "outputId": "a825dd73-535d-4777-9112-913f52f5698f"
      },
      "execution_count": 73,
      "outputs": [
        {
          "output_type": "execute_result",
          "data": {
            "text/plain": [
              "[{'genz_movies.title': 'RescueDawn'},\n",
              " {'genz_movies.title': 'The Da Vinci Code'},\n",
              " {'genz_movies.title': 'V for Vendetta'},\n",
              " {'genz_movies.title': 'Speed Racer'},\n",
              " {'genz_movies.title': 'Ninja Assassin'},\n",
              " {'genz_movies.title': 'Frost/Nixon'},\n",
              " {'genz_movies.title': \"Charlie Wilson's War\"},\n",
              " {'genz_movies.title': 'The Polar Express'}]"
            ]
          },
          "metadata": {},
          "execution_count": 73
        }
      ]
    },
    {
      "cell_type": "markdown",
      "source": [
        "Pattern matching with multiple nodes"
      ],
      "metadata": {
        "id": "eIJiBaUL-J9T"
      }
    },
    {
      "cell_type": "code",
      "source": [
        "cypher9 = \"\"\"\n",
        "MATCH (actor:Person)-[:ACTED_IN]->(movie:Movie)\n",
        "RETURN actor.name, movie.title, movie.released\n",
        "LIMIT 5\n",
        "\"\"\"\n",
        "\n",
        "kg.query(cypher9)"
      ],
      "metadata": {
        "colab": {
          "base_uri": "https://localhost:8080/"
        },
        "id": "1qzl9Zwl9hAj",
        "outputId": "7cf774a6-648c-4ed3-9165-d0a3ba02ae97"
      },
      "execution_count": 77,
      "outputs": [
        {
          "output_type": "execute_result",
          "data": {
            "text/plain": [
              "[{'actor.name': 'Keanu Reeves',\n",
              "  'movie.title': 'The Matrix',\n",
              "  'movie.released': 1999},\n",
              " {'actor.name': 'Carrie-Anne Moss',\n",
              "  'movie.title': 'The Matrix',\n",
              "  'movie.released': 1999},\n",
              " {'actor.name': 'Laurence Fishburne',\n",
              "  'movie.title': 'The Matrix',\n",
              "  'movie.released': 1999},\n",
              " {'actor.name': 'Hugo Weaving',\n",
              "  'movie.title': 'The Matrix',\n",
              "  'movie.released': 1999},\n",
              " {'actor.name': 'Emil Eifrem',\n",
              "  'movie.title': 'The Matrix',\n",
              "  'movie.released': 1999}]"
            ]
          },
          "metadata": {},
          "execution_count": 77
        }
      ]
    },
    {
      "cell_type": "code",
      "source": [
        "cypher10 = \"\"\"\n",
        "MATCH (actor:Person)-[:ACTED_IN]->(movie:Movie {released: 2000})\n",
        "RETURN actor.name, movie.title, movie.released\n",
        "LIMIT 5\n",
        "\"\"\"\n",
        "\n",
        "kg.query(cypher10)"
      ],
      "metadata": {
        "colab": {
          "base_uri": "https://localhost:8080/"
        },
        "id": "GbArvIuu-20X",
        "outputId": "171f164f-bc8b-4ed0-dff0-7202e2dec70d"
      },
      "execution_count": 78,
      "outputs": [
        {
          "output_type": "execute_result",
          "data": {
            "text/plain": [
              "[{'actor.name': 'Tom Cruise',\n",
              "  'movie.title': 'Jerry Maguire',\n",
              "  'movie.released': 2000},\n",
              " {'actor.name': 'Cuba Gooding Jr.',\n",
              "  'movie.title': 'Jerry Maguire',\n",
              "  'movie.released': 2000},\n",
              " {'actor.name': 'Renee Zellweger',\n",
              "  'movie.title': 'Jerry Maguire',\n",
              "  'movie.released': 2000},\n",
              " {'actor.name': 'Kelly Preston',\n",
              "  'movie.title': 'Jerry Maguire',\n",
              "  'movie.released': 2000},\n",
              " {'actor.name': \"Jerry O'Connell\",\n",
              "  'movie.title': 'Jerry Maguire',\n",
              "  'movie.released': 2000}]"
            ]
          },
          "metadata": {},
          "execution_count": 78
        }
      ]
    },
    {
      "cell_type": "code",
      "source": [
        "cypher10=\"\"\"\n",
        "MATCH (actor:Person {name:\"Keanu Reeves\"})-[:ACTED_IN]->(reeves_movies:Movie)\n",
        "RETURN reeves_movies.title,  reeves_movies.released\n",
        "\"\"\"\n",
        "# LIMIT 3\n",
        "kg.query(cypher10)"
      ],
      "metadata": {
        "colab": {
          "base_uri": "https://localhost:8080/"
        },
        "id": "ZbJ-1p8-_SE7",
        "outputId": "a98e5ebd-1a4e-45e4-f657-0bb18f2a16eb"
      },
      "execution_count": 82,
      "outputs": [
        {
          "output_type": "execute_result",
          "data": {
            "text/plain": [
              "[{'reeves_movies.title': 'The Matrix', 'reeves_movies.released': 1999},\n",
              " {'reeves_movies.title': 'The Matrix Reloaded',\n",
              "  'reeves_movies.released': 2003},\n",
              " {'reeves_movies.title': 'The Matrix Revolutions',\n",
              "  'reeves_movies.released': 2003},\n",
              " {'reeves_movies.title': \"The Devil's Advocate\",\n",
              "  'reeves_movies.released': 1997},\n",
              " {'reeves_movies.title': 'The Replacements', 'reeves_movies.released': 2000},\n",
              " {'reeves_movies.title': 'Johnny Mnemonic', 'reeves_movies.released': 1995},\n",
              " {'reeves_movies.title': \"Something's Gotta Give\",\n",
              "  'reeves_movies.released': 2003}]"
            ]
          },
          "metadata": {},
          "execution_count": 82
        }
      ]
    },
    {
      "cell_type": "code",
      "source": [
        "cypher11=\"\"\"\n",
        "MATCH (actor:Person {name:\"Keanu Reeves\"})-[:ACTED_IN]->(r)<-[:ACTED_IN]-(coactors)\n",
        "RETURN coactors.name, r.title\n",
        "\"\"\"\n",
        "# LIMIT 3\n",
        "kg.query(cypher11)"
      ],
      "metadata": {
        "colab": {
          "base_uri": "https://localhost:8080/"
        },
        "id": "Q0AjcakPA8Mo",
        "outputId": "59ff853b-9e2c-4cc9-ad64-74da178948f8"
      },
      "execution_count": 88,
      "outputs": [
        {
          "output_type": "execute_result",
          "data": {
            "text/plain": [
              "[{'coactors.name': 'Carrie-Anne Moss', 'r.title': 'The Matrix'},\n",
              " {'coactors.name': 'Laurence Fishburne', 'r.title': 'The Matrix'},\n",
              " {'coactors.name': 'Hugo Weaving', 'r.title': 'The Matrix'},\n",
              " {'coactors.name': 'Emil Eifrem', 'r.title': 'The Matrix'},\n",
              " {'coactors.name': 'Carrie-Anne Moss', 'r.title': 'The Matrix Reloaded'},\n",
              " {'coactors.name': 'Laurence Fishburne', 'r.title': 'The Matrix Reloaded'},\n",
              " {'coactors.name': 'Hugo Weaving', 'r.title': 'The Matrix Reloaded'},\n",
              " {'coactors.name': 'Carrie-Anne Moss', 'r.title': 'The Matrix Revolutions'},\n",
              " {'coactors.name': 'Laurence Fishburne', 'r.title': 'The Matrix Revolutions'},\n",
              " {'coactors.name': 'Hugo Weaving', 'r.title': 'The Matrix Revolutions'},\n",
              " {'coactors.name': 'Charlize Theron', 'r.title': \"The Devil's Advocate\"},\n",
              " {'coactors.name': 'Al Pacino', 'r.title': \"The Devil's Advocate\"},\n",
              " {'coactors.name': 'Brooke Langton', 'r.title': 'The Replacements'},\n",
              " {'coactors.name': 'Gene Hackman', 'r.title': 'The Replacements'},\n",
              " {'coactors.name': 'Orlando Jones', 'r.title': 'The Replacements'},\n",
              " {'coactors.name': 'Takeshi Kitano', 'r.title': 'Johnny Mnemonic'},\n",
              " {'coactors.name': 'Dina Meyer', 'r.title': 'Johnny Mnemonic'},\n",
              " {'coactors.name': 'Ice-T', 'r.title': 'Johnny Mnemonic'},\n",
              " {'coactors.name': 'Jack Nicholson', 'r.title': \"Something's Gotta Give\"},\n",
              " {'coactors.name': 'Diane Keaton', 'r.title': \"Something's Gotta Give\"}]"
            ]
          },
          "metadata": {},
          "execution_count": 88
        }
      ]
    },
    {
      "cell_type": "markdown",
      "source": [
        "# WE CAN CREATE NEW NODES AND RELATIONSHIPS AND ALSO DELETE NODE AND RELATIONSHIPS"
      ],
      "metadata": {
        "id": "jsveCdHbCwIU"
      }
    },
    {
      "cell_type": "code",
      "source": [
        "cypher12=\"\"\"\n",
        "MATCH (actor:Person {name:'Emil Eifrem'})-[acted_in:ACTED_IN]->(movie:Movie)\n",
        "DELETE acted_in\n",
        "\"\"\"\n",
        "kg.query(cypher12)"
      ],
      "metadata": {
        "colab": {
          "base_uri": "https://localhost:8080/"
        },
        "id": "omInqyFrBu_H",
        "outputId": "bc7a1791-4a8f-4338-cf13-f610981c4805"
      },
      "execution_count": 89,
      "outputs": [
        {
          "output_type": "execute_result",
          "data": {
            "text/plain": [
              "[]"
            ]
          },
          "metadata": {},
          "execution_count": 89
        }
      ]
    },
    {
      "cell_type": "code",
      "source": [
        "cypher13=\"\"\"\n",
        "MATCH (actor:Person {name:'Emil Eifrem'})-[acted_in:ACTED_IN]->(movie:Movie)\n",
        "RETURN movie\n",
        "\"\"\"\n",
        "\n",
        "kg.query(cypher13)\n",
        "# this is for checking whether the relationship still exists or not"
      ],
      "metadata": {
        "colab": {
          "base_uri": "https://localhost:8080/"
        },
        "id": "M7nz7-UfIdmp",
        "outputId": "f779f55a-d177-438a-d695-d093cb1a1e25"
      },
      "execution_count": 92,
      "outputs": [
        {
          "output_type": "execute_result",
          "data": {
            "text/plain": [
              "[]"
            ]
          },
          "metadata": {},
          "execution_count": 92
        }
      ]
    },
    {
      "cell_type": "code",
      "source": [
        "cypher14=\"\"\"\n",
        "MATCH (actor:Person {name:'Tom Hanks'})-[acted_in:ACTED_IN]->(movie:Movie)\n",
        "RETURN movie\n",
        "\"\"\"\n",
        "kg.query(cypher14)"
      ],
      "metadata": {
        "colab": {
          "base_uri": "https://localhost:8080/"
        },
        "id": "TdaNQk0pIjdL",
        "outputId": "b63b6f4c-edbb-4618-e56c-30525bcb36e2"
      },
      "execution_count": 93,
      "outputs": [
        {
          "output_type": "execute_result",
          "data": {
            "text/plain": [
              "[{'movie': {'tagline': 'At odds in life... in love on-line.',\n",
              "   'title': \"You've Got Mail\",\n",
              "   'released': 1998}},\n",
              " {'movie': {'tagline': 'What if someone you never met, someone you never saw, someone you never knew was the only someone for you?',\n",
              "   'title': 'Sleepless in Seattle',\n",
              "   'released': 1993}},\n",
              " {'movie': {'tagline': 'A story of love, lava and burning desire.',\n",
              "   'title': 'Joe Versus the Volcano',\n",
              "   'released': 1990}},\n",
              " {'movie': {'tagline': 'In every life there comes a time when that thing you dream becomes that thing you do',\n",
              "   'title': 'That Thing You Do',\n",
              "   'released': 1996}},\n",
              " {'movie': {'tagline': 'Everything is connected',\n",
              "   'title': 'Cloud Atlas',\n",
              "   'released': 2012}},\n",
              " {'movie': {'tagline': 'Break The Codes',\n",
              "   'title': 'The Da Vinci Code',\n",
              "   'released': 2006}},\n",
              " {'movie': {'tagline': \"Walk a mile you'll never forget.\",\n",
              "   'title': 'The Green Mile',\n",
              "   'released': 1999}},\n",
              " {'movie': {'tagline': 'Houston, we have a problem.',\n",
              "   'title': 'Apollo 13',\n",
              "   'released': 1995}},\n",
              " {'movie': {'tagline': 'At the edge of the world, his journey begins.',\n",
              "   'title': 'Cast Away',\n",
              "   'released': 2000}},\n",
              " {'movie': {'tagline': \"A stiff drink. A little mascara. A lot of nerve. Who said they couldn't bring down the Soviet empire.\",\n",
              "   'title': \"Charlie Wilson's War\",\n",
              "   'released': 2007}},\n",
              " {'movie': {'tagline': 'This Holiday Season... Believe',\n",
              "   'title': 'The Polar Express',\n",
              "   'released': 2004}},\n",
              " {'movie': {'tagline': 'Once in a lifetime you get a chance to do something different.',\n",
              "   'title': 'A League of Their Own',\n",
              "   'released': 1992}}]"
            ]
          },
          "metadata": {},
          "execution_count": 93
        }
      ]
    },
    {
      "cell_type": "code",
      "source": [
        "cypher15=\"\"\"\n",
        "CREATE (actor:Person {name:'Dhruv'})\n",
        "RETURN actor\n",
        "\"\"\"\n",
        "kg.query(cypher15)"
      ],
      "metadata": {
        "colab": {
          "base_uri": "https://localhost:8080/"
        },
        "id": "anZ8cLW0I4HO",
        "outputId": "0133acdb-1514-4c34-fd99-7b3fc1d8bb12"
      },
      "execution_count": 106,
      "outputs": [
        {
          "output_type": "execute_result",
          "data": {
            "text/plain": [
              "[{'actor': {'name': 'Dhruv'}}]"
            ]
          },
          "metadata": {},
          "execution_count": 106
        }
      ]
    },
    {
      "cell_type": "code",
      "source": [
        "cypher16=\"\"\"\n",
        "MATCH (actor:Person {name:'Dhruv'}),(m:Movie {title:\"Cast Away\"})\n",
        "MERGE (actor)-[act:ACTED_IN]->(m)\n",
        "RETURN actor,act,m\n",
        "\"\"\"\n",
        "kg.query(cypher16)"
      ],
      "metadata": {
        "colab": {
          "base_uri": "https://localhost:8080/"
        },
        "id": "28febtkXJ7FL",
        "outputId": "e2874ff0-4009-4566-9f16-2c1417bfcd11"
      },
      "execution_count": 107,
      "outputs": [
        {
          "output_type": "execute_result",
          "data": {
            "text/plain": [
              "[{'actor': {'name': 'Dhruv'},\n",
              "  'act': ({'name': 'Dhruv'},\n",
              "   'ACTED_IN',\n",
              "   {'tagline': 'At the edge of the world, his journey begins.',\n",
              "    'title': 'Cast Away',\n",
              "    'released': 2000}),\n",
              "  'm': {'tagline': 'At the edge of the world, his journey begins.',\n",
              "   'title': 'Cast Away',\n",
              "   'released': 2000}}]"
            ]
          },
          "metadata": {},
          "execution_count": 107
        }
      ]
    },
    {
      "cell_type": "code",
      "source": [
        "cypher17=\"\"\"\n",
        "MATCH (actor:Person)-[acted_in:ACTED_IN]->(movie:Movie {title:'Cast Away'})\n",
        "RETURN actor\n",
        "\"\"\"\n",
        "kg.query(cypher17)"
      ],
      "metadata": {
        "colab": {
          "base_uri": "https://localhost:8080/"
        },
        "id": "pXDa1TJzK6FK",
        "outputId": "c3832bb2-b26b-4988-8ed6-a9d526ba0f1a"
      },
      "execution_count": 108,
      "outputs": [
        {
          "output_type": "execute_result",
          "data": {
            "text/plain": [
              "[{'actor': {'born': 1963, 'name': 'Helen Hunt'}},\n",
              " {'actor': {'born': 1956, 'name': 'Tom Hanks'}},\n",
              " {'actor': {'name': 'Dhruv'}}]"
            ]
          },
          "metadata": {},
          "execution_count": 108
        }
      ]
    },
    {
      "cell_type": "code",
      "source": [
        "cypher12=\"\"\"\n",
        "MATCH (actor:Person {name:'Dhruv'})-[acted_in:ACTED_IN]->(movie:Movie)\n",
        "DELETE actor,acted_in\n",
        "\"\"\"\n",
        "kg.query(cypher12)\n",
        "\n",
        "# here i am deleting both the relationship and the node"
      ],
      "metadata": {
        "colab": {
          "base_uri": "https://localhost:8080/"
        },
        "id": "BuflvIi6LkmN",
        "outputId": "05dd6f2c-3298-46ff-de27-dde4fd51ac26"
      },
      "execution_count": 103,
      "outputs": [
        {
          "output_type": "execute_result",
          "data": {
            "text/plain": [
              "[]"
            ]
          },
          "metadata": {},
          "execution_count": 103
        }
      ]
    },
    {
      "cell_type": "code",
      "source": [],
      "metadata": {
        "id": "mO0KBHibL2Jq"
      },
      "execution_count": null,
      "outputs": []
    }
  ]
}